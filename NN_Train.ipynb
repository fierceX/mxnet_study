{
 "cells": [
  {
   "cell_type": "code",
   "execution_count": 2,
   "metadata": {
    "ExecuteTime": {
     "end_time": "2017-10-11T12:53:03.061332Z",
     "start_time": "2017-10-11T12:53:03.053811Z"
    }
   },
   "outputs": [],
   "source": [
    "from mxnet import gluon\n",
    "from mxnet.gluon import nn\n",
    "import matplotlib.pyplot as plt\n",
    "from mxnet import autograd as autograd\n",
    "from mxnet import nd\n",
    "import mxnet as mx\n",
    "from collections import namedtuple\n",
    "import random"
   ]
  },
  {
   "cell_type": "code",
   "execution_count": 3,
   "metadata": {
    "ExecuteTime": {
     "end_time": "2017-10-11T12:53:03.991944Z",
     "start_time": "2017-10-11T12:53:03.987933Z"
    },
    "collapsed": true
   },
   "outputs": [],
   "source": [
    "def transform(data,label):\n",
    "    return data.astype('float32')/255,label.astype('float32')"
   ]
  },
  {
   "cell_type": "code",
   "execution_count": 4,
   "metadata": {
    "ExecuteTime": {
     "end_time": "2017-10-11T12:53:05.949465Z",
     "start_time": "2017-10-11T12:53:04.980570Z"
    }
   },
   "outputs": [],
   "source": [
    "def GetDate():\n",
    "    fashion_train = gluon.data.vision.FashionMNIST(root='./',train=True,transform=transform)\n",
    "    fashion_test = gluon.data.vision.FashionMNIST(root='./',train=True, transform=transform)\n",
    "    return fashion_train,fashion_test"
   ]
  },
  {
   "cell_type": "code",
   "execution_count": 5,
   "metadata": {
    "ExecuteTime": {
     "end_time": "2017-10-11T12:53:07.033456Z",
     "start_time": "2017-10-11T12:53:07.012901Z"
    },
    "collapsed": true
   },
   "outputs": [],
   "source": [
    "def accuracy(output, label):\n",
    "    return nd.mean(output.argmax(axis=1)==label).asscalar()\n",
    "\n",
    "def evaluate_accuracy(data_iterator, net):\n",
    "    acc = 0.\n",
    "    test_loss = 0.\n",
    "    softmax_cross_entropy = gluon.loss.SoftmaxCrossEntropyLoss()\n",
    "    for data, label in data_iterator:\n",
    "        data = data.as_in_context(mx.gpu())\n",
    "        label = label.as_in_context(mx.gpu())\n",
    "        output = net(nd.transpose(data,(0,3,1,2)))\n",
    "        loss = softmax_cross_entropy(output, label)\n",
    "        acc += accuracy(output, label)\n",
    "        test_loss +=nd.mean(loss).asscalar()\n",
    "    return acc / len(data_iterator),test_loss / len(data_iterator)"
   ]
  },
  {
   "cell_type": "code",
   "execution_count": 6,
   "metadata": {
    "ExecuteTime": {
     "end_time": "2017-10-11T12:53:08.270904Z",
     "start_time": "2017-10-11T12:53:08.253356Z"
    },
    "collapsed": true
   },
   "outputs": [],
   "source": [
    "def GetNN():\n",
    "    net = nn.HybridSequential()\n",
    "    with net.name_scope():\n",
    "        net.add(gluon.nn.Conv2D(channels=20, kernel_size=5, activation='relu'))\n",
    "        net.add(gluon.nn.MaxPool2D(pool_size=2, strides=2))\n",
    "        net.add(gluon.nn.Conv2D(channels=50, kernel_size=3, activation='relu'))\n",
    "        net.add(gluon.nn.MaxPool2D(pool_size=2, strides=2))\n",
    "        net.add(gluon.nn.Flatten())\n",
    "        net.add(gluon.nn.Dense(10))        \n",
    "    net.initialize(init=mx.init.Xavier(),ctx=mx.gpu())\n",
    "    net.hybridize()\n",
    "    return net"
   ]
  },
  {
   "cell_type": "code",
   "execution_count": 7,
   "metadata": {
    "ExecuteTime": {
     "end_time": "2017-10-11T12:53:09.651198Z",
     "start_time": "2017-10-11T12:53:09.477361Z"
    },
    "collapsed": true
   },
   "outputs": [],
   "source": [
    "def NN_Train(net, train_data, test_data, epochs, batch_size, learning_rate, weight_decay):\n",
    "    msg=''\n",
    "    train_loss = []\n",
    "    train_acc = []\n",
    "    dataset_train = gluon.data.DataLoader(train_data,batch_size,shuffle=True)\n",
    "    test_loss = []\n",
    "    test_acc = []\n",
    "    dataset_test = gluon.data.DataLoader(test_data,batch_size,shuffle=True)\n",
    "        \n",
    "    trainer = gluon.Trainer(net.collect_params(), 'adam',\n",
    "                            {'learning_rate': learning_rate,\n",
    "                             'wd': weight_decay})\n",
    "    softmax_cross_entropy = gluon.loss.SoftmaxCrossEntropyLoss()\n",
    "    \n",
    "    for epoch in range(epochs):\n",
    "        _loss = 0.\n",
    "        _acc = 0.\n",
    "        t_acc = 0.\n",
    "        for data, label in dataset_train:\n",
    "            data = nd.transpose(data,(0,3,1,2))\n",
    "            data = data.as_in_context(mx.gpu())\n",
    "            label = label.as_in_context(mx.gpu())\n",
    "            with autograd.record():\n",
    "                output = net(data)\n",
    "                loss = softmax_cross_entropy(output, label)\n",
    "            loss.backward()\n",
    "            trainer.step(batch_size)\n",
    "\n",
    "            _loss += nd.mean(loss).asscalar()\n",
    "            _acc += accuracy(output, label)\n",
    "        __acc = _acc / len(dataset_train) \n",
    "        __loss = _loss / len(dataset_train)\n",
    "        train_loss.append(__loss)\n",
    "        train_acc.append(__acc)\n",
    "        \n",
    "        t_acc,t_loss = evaluate_accuracy(dataset_test, net)\n",
    "        test_loss.append(t_loss)\n",
    "        test_acc.append(t_acc)\n",
    "            \n",
    "        msg += (\"Epoch %d. Train Loss: %f, Test Loss: %f, Train acc %f, Test acc %f\\n\" % (\n",
    "            epoch, __loss, t_loss,__acc, t_acc))\n",
    "    \n",
    "    fig = plt.figure()\n",
    "    ax1 = fig.add_subplot(111)\n",
    "    ax1.plot(train_loss,'r')\n",
    "    ax1.plot(test_loss,'g')\n",
    "    ax1.legend(['Train_Loss','Test_Loss'],loc=2)\n",
    "    ax1.set_ylabel('Loss')\n",
    "\n",
    "    ax2 = ax1.twinx()\n",
    "    ax2.plot(train_acc,'b')\n",
    "    ax2.plot(test_acc,'y')\n",
    "    ax2.legend(['Train_Acc','Test_Acc'],loc=1)\n",
    "    ax2.set_ylabel('Acc')\n",
    "    \n",
    "    plt.savefig('1.png',dpi=600)\n",
    "    plt.show()\n",
    "    net.collect_params().save('NN.params')\n",
    "    return msg"
   ]
  },
  {
   "cell_type": "code",
   "execution_count": 10,
   "metadata": {
    "ExecuteTime": {
     "end_time": "2017-10-11T12:54:57.319489Z",
     "start_time": "2017-10-11T12:54:57.315477Z"
    },
    "collapsed": true
   },
   "outputs": [],
   "source": [
    "epochs = 10\n",
    "learning_rate = 0.002\n",
    "batch_size = 128\n",
    "weight_decay = 0."
   ]
  },
  {
   "cell_type": "code",
   "execution_count": 11,
   "metadata": {
    "ExecuteTime": {
     "end_time": "2017-10-11T12:58:33.709308Z",
     "start_time": "2017-10-11T12:54:58.587710Z"
    }
   },
   "outputs": [
    {
     "data": {
      "image/png": "[encoded data removed]",
      "text/plain": [
       "<matplotlib.figure.Figure at 0x2a87f32bac8>"
      ]
     },
     "metadata": {},
     "output_type": "display_data"
    },
    {
     "name": "stdout",
     "output_type": "stream",
     "text": [
      "Epoch 0. Train Loss: 0.548921, Test Loss: 0.380608, Train acc 0.801806, Test acc 0.864456\n",
      "Epoch 1. Train Loss: 0.364341, Test Loss: 0.339355, Train acc 0.872207, Test acc 0.878615\n",
      "Epoch 2. Train Loss: 0.322395, Test Loss: 0.292920, Train acc 0.885761, Test acc 0.897383\n",
      "Epoch 3. Train Loss: 0.294191, Test Loss: 0.273078, Train acc 0.895267, Test acc 0.901775\n",
      "Epoch 4. Train Loss: 0.271903, Test Loss: 0.252009, Train acc 0.903263, Test acc 0.910947\n",
      "Epoch 5. Train Loss: 0.254892, Test Loss: 0.238550, Train acc 0.909148, Test acc 0.913735\n",
      "Epoch 6. Train Loss: 0.243520, Test Loss: 0.222731, Train acc 0.912663, Test acc 0.921497\n",
      "Epoch 7. Train Loss: 0.229306, Test Loss: 0.214853, Train acc 0.917289, Test acc 0.921992\n",
      "Epoch 8. Train Loss: 0.219663, Test Loss: 0.211280, Train acc 0.919643, Test acc 0.923780\n",
      "Epoch 9. Train Loss: 0.211239, Test Loss: 0.189257, Train acc 0.923363, Test acc 0.931181\n",
      "\n"
     ]
    }
   ],
   "source": [
    "msg = NN_Train(\n",
    "    net=GetNN(),\n",
    "    train_data=fashion_train,\n",
    "    test_data=fashion_test,\n",
    "    epochs=epochs,\n",
    "    batch_size=batch_size,\n",
    "    learning_rate=learning_rate,\n",
    "    weight_decay=weight_decay)\n",
    "print(msg)"
   ]
  }
 ],
 "metadata": {
  "kernelspec": {
   "display_name": "Python 3",
   "language": "python",
   "name": "python3"
  },
  "language_info": {
   "codemirror_mode": {
    "name": "ipython",
    "version": 3
   },
   "file_extension": ".py",
   "mimetype": "text/x-python",
   "name": "python",
   "nbconvert_exporter": "python",
   "pygments_lexer": "ipython3",
   "version": "3.6.1"
  }
 },
 "nbformat": 4,
 "nbformat_minor": 2
}
