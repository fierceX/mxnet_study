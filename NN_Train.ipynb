{
 "cells": [
  {
   "cell_type": "code",
   "execution_count": 7,
   "metadata": {
    "collapsed": true
   },
   "outputs": [],
   "source": [
    "from mxnet import gluon\n",
    "from mxnet.gluon import nn\n",
    "import matplotlib.pyplot as plt\n",
    "from mxnet import autograd as autograd\n",
    "from mxnet import nd\n",
    "import mxnet as mx\n",
    "from collections import namedtuple\n",
    "import random"
   ]
  },
  {
   "cell_type": "code",
   "execution_count": 8,
   "metadata": {
    "collapsed": true
   },
   "outputs": [],
   "source": [
    "def transform(data,label):\n",
    "    return data.astype('float32')/255,label.astype('float32')"
   ]
  },
  {
   "cell_type": "code",
   "execution_count": 10,
   "metadata": {},
   "outputs": [],
   "source": [
    "fashion_train = gluon.data.vision.FashionMNIST(root='./',train=True,transform=transform)\n",
    "fashion_test = gluon.data.vision.FashionMNIST(root='./',train=True, transform=transform)"
   ]
  },
  {
   "cell_type": "code",
   "execution_count": 18,
   "metadata": {
    "collapsed": true
   },
   "outputs": [],
   "source": [
    "def accuracy(output, label):\n",
    "    return nd.mean(output.argmax(axis=1)==label).asscalar()\n",
    "\n",
    "def evaluate_accuracy(data_iterator, net):\n",
    "    acc = 0.\n",
    "    test_loss = 0.\n",
    "    softmax_cross_entropy = gluon.loss.SoftmaxCrossEntropyLoss()\n",
    "    for data, label in data_iterator:\n",
    "        output = net(nd.transpose(data,(0,3,1,2)))\n",
    "        loss = softmax_cross_entropy(output, label)\n",
    "        acc += accuracy(output, label)\n",
    "        test_loss +=nd.mean(loss).asscalar()\n",
    "    return acc / len(data_iterator),test_loss / len(data_iterator)"
   ]
  },
  {
   "cell_type": "code",
   "execution_count": 12,
   "metadata": {
    "collapsed": true
   },
   "outputs": [],
   "source": [
    "def GetNN():\n",
    "    net = nn.HybridSequential()\n",
    "    with net.name_scope():\n",
    "        net.add(gluon.nn.Conv2D(channels=20, kernel_size=5, activation='relu'))\n",
    "        net.add(gluon.nn.MaxPool2D(pool_size=2, strides=2))\n",
    "        net.add(gluon.nn.Conv2D(channels=50, kernel_size=3, activation='relu'))\n",
    "        net.add(gluon.nn.MaxPool2D(pool_size=2, strides=2))\n",
    "        net.add(gluon.nn.Flatten())\n",
    "        net.add(gluon.nn.Dense(10))\n",
    "        \n",
    "        \n",
    "        fc21 = nn.Dense(fc1)\n",
    "        fc22 = nn.Dense(fc1)\n",
    "        net.add(nd.concat(fc21,fc22,dim=1))\n",
    "        \n",
    "        \n",
    "        \n",
    "    net.initialize(init=mx.init.Xavier())\n",
    "    net.hybridize()\n",
    "    return net"
   ]
  },
  {
   "cell_type": "code",
   "execution_count": 90,
   "metadata": {},
   "outputs": [],
   "source": [
    "def NN_Train(net, train_data, test_data, epochs, batch_size, learning_rate, weight_decay):\n",
    "    msg=''\n",
    "    train_loss = []\n",
    "    train_acc = []\n",
    "    dataset_train = gluon.data.DataLoader(train_data,batch_size,shuffle=True)\n",
    "    test_loss = []\n",
    "    test_acc = []\n",
    "    dataset_test = gluon.data.DataLoader(test_data,batch_size,shuffle=True)\n",
    "        \n",
    "    trainer = gluon.Trainer(net.collect_params(), 'adam',\n",
    "                            {'learning_rate': learning_rate,\n",
    "                             'wd': weight_decay})\n",
    "    softmax_cross_entropy = gluon.loss.SoftmaxCrossEntropyLoss()\n",
    "    \n",
    "    for epoch in range(epochs):\n",
    "        _loss = 0.\n",
    "        _acc = 0.\n",
    "        t_acc = 0.\n",
    "        for data, label in dataset_train:\n",
    "            data = nd.transpose(data,(0,3,1,2))\n",
    "            with autograd.record():\n",
    "                output = net(data)\n",
    "                loss = softmax_cross_entropy(output, label)\n",
    "            loss.backward()\n",
    "            trainer.step(batch_size)\n",
    "\n",
    "            _loss += nd.mean(loss).asscalar()\n",
    "            _acc += accuracy(output, label)\n",
    "        __acc = _acc / len(dataset_train) \n",
    "        __loss = _loss / len(dataset_train)\n",
    "        train_loss.append(__loss)\n",
    "        train_acc.append(__acc)\n",
    "        \n",
    "        t_acc,t_loss = evaluate_accuracy(dataset_test, net)\n",
    "        test_loss.append(t_loss)\n",
    "        test_acc.append(t_acc)\n",
    "            \n",
    "        msg += (\"Epoch %d. Train Loss: %f, Test Loss: %f, Train acc %f, Test acc %f\\n\" % (\n",
    "            epoch, __loss, t_loss,__acc, t_acc))\n",
    "    \n",
    "    fig = plt.figure()\n",
    "    ax1 = fig.add_subplot(111)\n",
    "    ax1.plot(train_loss,'r')\n",
    "    ax1.plot(test_loss,'g')\n",
    "    ax1.legend(['Train_Loss','Test_Loss'],loc=2)\n",
    "    ax1.set_ylabel('Loss')\n",
    "\n",
    "    ax2 = ax1.twinx()\n",
    "    ax2.plot(train_acc,'b')\n",
    "    ax2.plot(test_acc,'y')\n",
    "    ax2.legend(['Train_Acc','Test_Acc'],loc=1)\n",
    "    ax2.set_ylabel('Acc')\n",
    "    \n",
    "    plt.savefig('1.png',dpi=600)\n",
    "    plt.show()\n",
    "    net.collect_params().save('NN.params')\n",
    "    return msg"
   ]
  },
  {
   "cell_type": "code",
   "execution_count": 29,
   "metadata": {
    "collapsed": true
   },
   "outputs": [],
   "source": [
    "epochs = 3\n",
    "learning_rate = 0.008\n",
    "batch_size = 128\n",
    "weight_decay = 0."
   ]
  },
  {
   "cell_type": "code",
   "execution_count": 91,
   "metadata": {},
   "outputs": [
    {
     "data": {
      "image/png": "[encoded data removed]",
      "text/plain": [
       "<matplotlib.figure.Figure at 0x1f27788fd30>"
      ]
     },
     "metadata": {},
     "output_type": "display_data"
    },
    {
     "name": "stdout",
     "output_type": "stream",
     "text": [
      "Epoch 0. Train Loss: 0.464664, Test Loss: 0.331341, Train acc 0.831412, Test acc 0.879947\n",
      "Epoch 1. Train Loss: 0.320958, Test Loss: 0.291131, Train acc 0.885333, Test acc 0.895933\n",
      "Epoch 2. Train Loss: 0.288373, Test Loss: 0.258940, Train acc 0.895878, Test acc 0.906283\n",
      "\n"
     ]
    }
   ],
   "source": [
    "msg = NN_Train(\n",
    "    net=GetNN(),\n",
    "    train_data=fashion_train,\n",
    "    test_data=fashion_test,\n",
    "    epochs=epochs,\n",
    "    batch_size=batch_size,\n",
    "    learning_rate=learning_rate,\n",
    "    weight_decay=weight_decay)\n",
    "print(msg)"
   ]
  }
 ],
 "metadata": {
  "kernelspec": {
   "display_name": "Python 3",
   "language": "python",
   "name": "python3"
  },
  "language_info": {
   "codemirror_mode": {
    "name": "ipython",
    "version": 3
   },
   "file_extension": ".py",
   "mimetype": "text/x-python",
   "name": "python",
   "nbconvert_exporter": "python",
   "pygments_lexer": "ipython3",
   "version": "3.6.1"
  }
 },
 "nbformat": 4,
 "nbformat_minor": 2
}
