{
 "cells": [
  {
   "cell_type": "markdown",
   "metadata": {},
   "source": [
    "# MxNet新前端Gluon模型转换到Symbol\n",
    "## 1. 导入各种包"
   ]
  },
  {
   "cell_type": "code",
   "execution_count": 94,
   "metadata": {
    "collapsed": true
   },
   "outputs": [],
   "source": [
    "from mxnet import gluon\n",
    "from mxnet.gluon import nn\n",
    "import matplotlib.pyplot as plt\n",
    "from mxnet import autograd as autograd\n",
    "from mxnet import nd\n",
    "import mxnet as mx\n",
    "from collections import namedtuple\n",
    "import random"
   ]
  },
  {
   "cell_type": "markdown",
   "metadata": {},
   "source": [
    "## 2. 准备数据\n",
    "使用和mnist很像的FashionMNIST数据集，使用Gluon下载"
   ]
  },
  {
   "cell_type": "code",
   "execution_count": 3,
   "metadata": {
    "collapsed": true
   },
   "outputs": [],
   "source": [
    "def transform(data,label):\n",
    "    return data.astype('float32')/255,label.astype('float32')"
   ]
  },
  {
   "cell_type": "code",
   "execution_count": 4,
   "metadata": {
    "collapsed": true
   },
   "outputs": [],
   "source": [
    "fashion_train = gluon.data.vision.FashionMNIST(root='./',train=True,transform=transform)\n",
    "fashion_test = gluon.data.vision.FashionMNIST(root='./',train=True, transform=transform)"
   ]
  },
  {
   "cell_type": "code",
   "execution_count": 5,
   "metadata": {
    "collapsed": true
   },
   "outputs": [],
   "source": [
    "batch_size = 256\n",
    "train_data = gluon.data.DataLoader(fashion_train,batch_size,shuffle=True)\n",
    "test_data = gluon.data.DataLoader(fashion_test,batch_size,shuffle=True)"
   ]
  },
  {
   "cell_type": "markdown",
   "metadata": {},
   "source": [
    "用于显示图像和标签"
   ]
  },
  {
   "cell_type": "code",
   "execution_count": 58,
   "metadata": {
    "collapsed": true
   },
   "outputs": [],
   "source": [
    "def show_images(images):\n",
    "    n = images.shape[0]\n",
    "    _, figs = plt.subplots(1, n, figsize=(15, 15))\n",
    "    for i in range(n):\n",
    "        figs[i].imshow(images[i].reshape((28, 28)).asnumpy())\n",
    "        figs[i].axes.get_xaxis().set_visible(False)\n",
    "        figs[i].axes.get_yaxis().set_visible(False)\n",
    "    plt.show()"
   ]
  },
  {
   "cell_type": "code",
   "execution_count": 78,
   "metadata": {
    "collapsed": true
   },
   "outputs": [],
   "source": [
    "def get_text_labels(label):\n",
    "    text_labels = [\n",
    "        't-shirt', 'trouser', 'pullover', 'dress,', 'coat',\n",
    "        'sandal', 'shirt', 'sneaker', 'bag', 'ankle boot'\n",
    "    ]\n",
    "    return [text_labels[int(i)] for i in label]"
   ]
  },
  {
   "cell_type": "code",
   "execution_count": 100,
   "metadata": {},
   "outputs": [
    {
     "data": {
      "image/png": "[encoded data removed]",
      "text/plain": [
       "<matplotlib.figure.Figure at 0x208b4abbba8>"
      ]
     },
     "metadata": {},
     "output_type": "display_data"
    },
    {
     "name": "stdout",
     "output_type": "stream",
     "text": [
      "['coat', 'coat', 'sandal', 'coat', 'bag', 't-shirt', 'bag', 'ankle boot', 't-shirt', 'pullover', 'pullover', 'ankle boot', 'dress,', 'dress,']\n"
     ]
    }
   ],
   "source": [
    "data,label = fashion_train[5:19]\n",
    "show_images(data)\n",
    "print(get_text_labels(label))"
   ]
  },
  {
   "cell_type": "markdown",
   "metadata": {},
   "source": [
    "## 3. 精度计算函数"
   ]
  },
  {
   "cell_type": "code",
   "execution_count": 12,
   "metadata": {
    "collapsed": true
   },
   "outputs": [],
   "source": [
    "def accuracy(output, label):\n",
    "    return nd.mean(output.argmax(axis=1)==label).asscalar()\n",
    "\n",
    "def evaluate_accuracy(data_iterator, net):\n",
    "    acc = 0.\n",
    "    for data, label in data_iterator:\n",
    "        output = net(nd.transpose(data,(0,3,1,2)))\n",
    "        acc += accuracy(output, label)\n",
    "    return acc / len(data_iterator)"
   ]
  },
  {
   "cell_type": "markdown",
   "metadata": {},
   "source": [
    "## 4. 定义网络\n",
    "### 4.1 自己定义的层\n",
    "Gluon模型转到Symbol下只能用`HybridSequential`模式，`HybridSequential`是静态图，会对计算有优化，不过`HybridSequential`和`Sequential`可以很方便的转换，确切的就是一行代码的事。同样自定义的网络，要使用`HybridBlock`，和`Block`没有多大区别"
   ]
  },
  {
   "cell_type": "code",
   "execution_count": 18,
   "metadata": {},
   "outputs": [],
   "source": [
    "class MyDense(nn.HybridBlock):\n",
    "    def __init__(self,**kwargs):\n",
    "        super(MyDense,self).__init__(**kwargs)\n",
    "        with self.name_scope():\n",
    "            self.dense0 = nn.Dense(256)\n",
    "            self.dense1 = nn.Dense(10)\n",
    "    def hybrid_forward(self,F,x):   #  这里要使用hybrid_forward而不是forward，并且多了个参数F\n",
    "        return self.dense1(F.relu(self.dense0(x)))    #  F的作用就是替代 nd，如果是静态图，就是用 sym，否则使用 nd"
   ]
  },
  {
   "cell_type": "markdown",
   "metadata": {},
   "source": [
    "### 4.2 使用自定义的层和自带的层组成完整的网络\n",
    "网络定义和动态图一样，只不过把`Sequential`替换成了`HybridSequential`，在最后使用`hybridize()`会对静态图进行优化"
   ]
  },
  {
   "cell_type": "code",
   "execution_count": 30,
   "metadata": {},
   "outputs": [
    {
     "data": {
      "text/plain": [
       "HybridSequential(\n",
       "  (0): Conv2D(20, kernel_size=(5, 5), stride=(1, 1))\n",
       "  (1): MaxPool2D(size=(2, 2), stride=(2, 2), padding=(0, 0), ceil_mode=False)\n",
       "  (2): Conv2D(50, kernel_size=(3, 3), stride=(1, 1))\n",
       "  (3): MaxPool2D(size=(2, 2), stride=(2, 2), padding=(0, 0), ceil_mode=False)\n",
       "  (4): Flatten\n",
       "  (5): MyDense(\n",
       "    (dense0): Dense(256, linear)\n",
       "    (dense1): Dense(10, linear)\n",
       "  )\n",
       ")"
      ]
     },
     "execution_count": 30,
     "metadata": {},
     "output_type": "execute_result"
    }
   ],
   "source": [
    "net = nn.HybridSequential()\n",
    "with net.name_scope():\n",
    "    net.add(gluon.nn.Conv2D(channels=20, kernel_size=5, activation='relu'))\n",
    "    net.add(gluon.nn.MaxPool2D(pool_size=2, strides=2))\n",
    "    net.add(gluon.nn.Conv2D(channels=50, kernel_size=3, activation='relu'))\n",
    "    net.add(gluon.nn.MaxPool2D(pool_size=2, strides=2))\n",
    "    net.add(gluon.nn.Flatten())\n",
    "    net.add(MyDense())\n",
    "net.initialize(init=mx.init.Xavier())\n",
    "net.hybridize()\n",
    "net"
   ]
  },
  {
   "cell_type": "markdown",
   "metadata": {},
   "source": [
    "## 5. 训练\n",
    "使用Adam优化算法，训练的速度会快点"
   ]
  },
  {
   "cell_type": "code",
   "execution_count": 31,
   "metadata": {},
   "outputs": [],
   "source": [
    "softmax_cross_entropy = gluon.loss.SoftmaxCrossEntropyLoss()\n",
    "trainer = gluon.Trainer(net.collect_params(), 'Adam', {'learning_rate': 0.008})"
   ]
  },
  {
   "cell_type": "code",
   "execution_count": 32,
   "metadata": {},
   "outputs": [
    {
     "name": "stdout",
     "output_type": "stream",
     "text": [
      "Epoch 0. Loss: 0.498041, Train acc 0.817226, Test acc 0.865459\n",
      "Epoch 1. Loss: 0.312128, Train acc 0.884813, Test acc 0.894265\n",
      "Epoch 2. Loss: 0.274009, Train acc 0.898454, Test acc 0.898604\n",
      "Epoch 3. Loss: 0.247741, Train acc 0.906521, Test acc 0.914910\n",
      "Epoch 4. Loss: 0.226967, Train acc 0.913736, Test acc 0.914334\n"
     ]
    }
   ],
   "source": [
    "for epoch in range(5):\n",
    "    train_loss = 0.\n",
    "    train_acc = 0.\n",
    "    test_acc = 0.\n",
    "    for data, label in train_data:\n",
    "        data = nd.transpose(data,(0,3,1,2))\n",
    "        with autograd.record():\n",
    "            output = net(data)\n",
    "            loss = softmax_cross_entropy(output, label)\n",
    "        loss.backward()\n",
    "        trainer.step(batch_size)\n",
    "\n",
    "        train_loss += nd.mean(loss).asscalar()\n",
    "        train_acc += accuracy(output, label)\n",
    "\n",
    "    test_acc = evaluate_accuracy(test_data, net)\n",
    "    print(\"Epoch %d. Loss: %f, Train acc %f, Test acc %f\" % (\n",
    "            epoch, train_loss/len(train_data), train_acc/len(train_data), test_acc))"
   ]
  },
  {
   "cell_type": "markdown",
   "metadata": {},
   "source": [
    "## 6. 保存成Symbol格式的网络和参数（重点）\n",
    "要注意保存网络参数的时候，需要`net.collect_params().save()`这样保存，而不是`net.save_params()`保存"
   ]
  },
  {
   "cell_type": "code",
   "execution_count": 101,
   "metadata": {
    "collapsed": true
   },
   "outputs": [],
   "source": [
    "net.save_params('Gluon_FashionMNIST.data')  # 将网络参数保存成Gluon模型的格式\n",
    "x = mx.sym.var('data')                      # 定义输入数据 'data'\n",
    "y = net(x）                                 # 将sym定义的输入输进网络，获取sym格式的网络\n",
    "y.save('Gluon_FashionMNIST.json')           # 保存symbol格式的网络\n",
    "net.collect_params().save('Gluon_FashionMNIST.params')    # 保存网络参数"
   ]
  },
  {
   "cell_type": "markdown",
   "metadata": {},
   "source": [
    "## 7. 使用Symbol加载网络并绑定"
   ]
  },
  {
   "cell_type": "code",
   "execution_count": null,
   "metadata": {},
   "outputs": [],
   "source": [
    "symnet = mx.symbol.load('Gluon_FashionMNIST.json')\n",
    "params = nd.load('Gluon_FashionMNIST.params')\n",
    "mod = mx.mod.Module(symbol=symnet, context=mx.cpu())\n",
    "mod.bind(data_shapes=[('data', (1, 1, 28, 28))])\n",
    "mod.set_params(arg_params=params,aux_params={})\n",
    "Batch = namedtuple('Batch', ['data'])"
   ]
  },
  {
   "cell_type": "markdown",
   "metadata": {},
   "source": [
    "## 8. 预测试试看效果"
   ]
  },
  {
   "cell_type": "code",
   "execution_count": 97,
   "metadata": {},
   "outputs": [],
   "source": [
    "img,label = fashion_test[random.randint(0, 60000)]\n",
    "data = img.transpose([2,0,1])\n",
    "data = data.reshape([1,1,28,28])"
   ]
  },
  {
   "cell_type": "code",
   "execution_count": 98,
   "metadata": {},
   "outputs": [
    {
     "data": {
      "image/png": "[encoded data removed]",
      "text/plain": [
       "<matplotlib.figure.Figure at 0x208b484b710>"
      ]
     },
     "metadata": {},
     "output_type": "display_data"
    },
    {
     "name": "stdout",
     "output_type": "stream",
     "text": [
      "predicted labels: ['pullover']\n",
      "true labels: ['pullover']\n"
     ]
    }
   ],
   "source": [
    "mod.forward(Batch([data]))\n",
    "out = mod.get_outputs()\n",
    "prob = out[0]\n",
    "predicted_labels = prob.argmax(axis=1)\n",
    "\n",
    "plt.imshow(img.reshape((28, 28)).asnumpy())\n",
    "plt.axis('off')\n",
    "plt.show()\n",
    "print('predicted labels:',get_text_labels(predicted_labels.asnumpy()))\n",
    "\n",
    "print('true labels:',get_text_labels([label]))"
   ]
  }
 ],
 "metadata": {
  "anaconda-cloud": {},
  "kernelspec": {
   "display_name": "Python 3",
   "language": "python",
   "name": "python3"
  },
  "language_info": {
   "codemirror_mode": {
    "name": "ipython",
    "version": 3
   },
   "file_extension": ".py",
   "mimetype": "text/x-python",
   "name": "python",
   "nbconvert_exporter": "python",
   "pygments_lexer": "ipython3",
   "version": "3.6.1"
  }
 },
 "nbformat": 4,
 "nbformat_minor": 1
}
