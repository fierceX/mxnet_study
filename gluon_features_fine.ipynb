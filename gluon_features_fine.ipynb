{
 "cells": [
  {
   "cell_type": "markdown",
   "metadata": {},
   "source": [
    "# 使用MxNet新接口Gluon提供的预训练模型进行微调\n",
    "\n",
    "## 1. 导入各种包"
   ]
  },
  {
   "cell_type": "code",
   "execution_count": 1,
   "metadata": {
    "scrolled": false
   },
   "outputs": [],
   "source": [
    "from mxnet import gluon\n",
    "import mxnet as mx\n",
    "from mxnet.gluon import nn\n",
    "from mxnet import ndarray as nd\n",
    "import matplotlib.pyplot as plt\n",
    "import cv2\n",
    "from mxnet import image\n",
    "from mxnet import autograd"
   ]
  },
  {
   "cell_type": "markdown",
   "metadata": {},
   "source": [
    "## 2. 导入数据\n",
    "我使用cifar10这个数据集，使用gluon自带的模块下载到本地并且为了配合后面的网络，我将大小调整到224*224"
   ]
  },
  {
   "cell_type": "code",
   "execution_count": 2,
   "metadata": {
    "scrolled": false
   },
   "outputs": [],
   "source": [
    "def transform(data, label):\n",
    "    data = image.imresize(data, 224, 224)\n",
    "    return data.astype('float32'), label.astype('float32')\n",
    "cifar10_train = gluon.data.vision.CIFAR10(root='./',train=True, transform=transform)\n",
    "cifar10_test = gluon.data.vision.CIFAR10(root='./',train=False, transform=transform)"
   ]
  },
  {
   "cell_type": "code",
   "execution_count": 3,
   "metadata": {
    "collapsed": true
   },
   "outputs": [],
   "source": [
    "batch_size = 64\n",
    "train_data = gluon.data.DataLoader(cifar10_train, batch_size, shuffle=True)\n",
    "test_data = gluon.data.DataLoader(cifar10_test, batch_size, shuffle=False)"
   ]
  },
  {
   "cell_type": "markdown",
   "metadata": {},
   "source": [
    "## 3. 加载预训练模型\n",
    "gluon提供的很多预训练模型，我选择一个简单的模型AlexNet  \n",
    "首先下载AlexNet模型和模型参数  \n",
    "使用下面的代码会获取AlexNet的模型并且加载预训练好的模型参数，但是鉴于网络的原因，我提前下好了"
   ]
  },
  {
   "cell_type": "code",
   "execution_count": null,
   "metadata": {
    "scrolled": false
   },
   "outputs": [],
   "source": [
    "alexnet = mx.gluon.model_zoo.vision.alexnet(pretrained=True)#如果pretrained值为True，则会下载预训练参数，否则是空模型"
   ]
  },
  {
   "cell_type": "markdown",
   "metadata": {},
   "source": [
    "获取模型并从本地加载参数"
   ]
  },
  {
   "cell_type": "code",
   "execution_count": 4,
   "metadata": {
    "scrolled": false
   },
   "outputs": [],
   "source": [
    "alexnet = mx.gluon.model_zoo.vision.alexnet()\n",
    "alexnet.load_params('alexnet-44335d1f.params',ctx=mx.gpu())"
   ]
  },
  {
   "cell_type": "markdown",
   "metadata": {},
   "source": [
    "看下AlexNet网络结构，发现分为两部分，features,classifier,而features正好是需要的"
   ]
  },
  {
   "cell_type": "code",
   "execution_count": 5,
   "metadata": {
    "scrolled": false
   },
   "outputs": [
    {
     "name": "stdout",
     "output_type": "stream",
     "text": [
      "AlexNet(\n",
      "  (features): HybridSequential(\n",
      "    (0): Conv2D(64, kernel_size=(11, 11), stride=(4, 4), padding=(2, 2))\n",
      "    (1): MaxPool2D(size=(3, 3), stride=(2, 2), padding=(0, 0), ceil_mode=False)\n",
      "    (2): Conv2D(192, kernel_size=(5, 5), stride=(1, 1), padding=(2, 2))\n",
      "    (3): MaxPool2D(size=(3, 3), stride=(2, 2), padding=(0, 0), ceil_mode=False)\n",
      "    (4): Conv2D(384, kernel_size=(3, 3), stride=(1, 1), padding=(1, 1))\n",
      "    (5): Conv2D(256, kernel_size=(3, 3), stride=(1, 1), padding=(1, 1))\n",
      "    (6): Conv2D(256, kernel_size=(3, 3), stride=(1, 1), padding=(1, 1))\n",
      "    (7): MaxPool2D(size=(3, 3), stride=(2, 2), padding=(0, 0), ceil_mode=False)\n",
      "    (8): Flatten\n",
      "  )\n",
      "  (classifier): HybridSequential(\n",
      "    (0): Dense(4096, Activation(relu))\n",
      "    (1): Dropout(p = 0.5)\n",
      "    (2): Dense(4096, Activation(relu))\n",
      "    (3): Dropout(p = 0.5)\n",
      "    (4): Dense(1000, linear)\n",
      "  )\n",
      ")\n"
     ]
    }
   ],
   "source": [
    "print(alexnet)"
   ]
  },
  {
   "cell_type": "markdown",
   "metadata": {},
   "source": [
    "## 4. 组合新的网络\n",
    "截取想要的features，并且固定参数。这样防止训练的时候把预训练好的参数给搞坏了"
   ]
  },
  {
   "cell_type": "code",
   "execution_count": 6,
   "metadata": {
    "scrolled": false
   },
   "outputs": [],
   "source": [
    "featuresnet = alexnet.features\n",
    "for _, w in featuresnet.collect_params().items():\n",
    "    w.grad_req = 'null'"
   ]
  },
  {
   "cell_type": "markdown",
   "metadata": {},
   "source": [
    "自己定义后面的网络，因为数据集是10类，就把最后的输出从1000改成了10。"
   ]
  },
  {
   "cell_type": "code",
   "execution_count": 7,
   "metadata": {
    "scrolled": false
   },
   "outputs": [],
   "source": [
    "def Classifier():\n",
    "    net = nn.HybridSequential()\n",
    "    net.add(nn.Dense(4096, activation=\"relu\"))\n",
    "    net.add(nn.Dropout(.5))\n",
    "    net.add(nn.Dense(4096, activation=\"relu\"))\n",
    "    net.add(nn.Dropout(.5))\n",
    "    net.add(nn.Dense(10))\n",
    "    return net"
   ]
  },
  {
   "cell_type": "markdown",
   "metadata": {},
   "source": [
    "接着需要把两部分组合起来，并且对第二部分机进行初始化"
   ]
  },
  {
   "cell_type": "code",
   "execution_count": 8,
   "metadata": {
    "scrolled": false
   },
   "outputs": [],
   "source": [
    "net = nn.HybridSequential()\n",
    "with net.name_scope():\n",
    "    net.add(featuresnet)\n",
    "    net.add(Classifier())\n",
    "    net[1].collect_params().initialize(init=mx.init.Xavier(),ctx=mx.gpu())\n",
    "net.hybridize()"
   ]
  },
  {
   "cell_type": "markdown",
   "metadata": {},
   "source": [
    "## 5. 训练\n",
    "最后就是训练了，看看效果如何"
   ]
  },
  {
   "cell_type": "code",
   "execution_count": 9,
   "metadata": {
    "scrolled": false
   },
   "outputs": [],
   "source": [
    "#定义准确率函数\n",
    "def accuracy(output, label):\n",
    "    return nd.mean(output.argmax(axis=1)==label).asscalar()\n",
    "def evaluate_accuracy(data_iterator, net, ctx=mx.gpu()):\n",
    "    acc = 0.\n",
    "    for data, label in data_iterator:\n",
    "        data = data.transpose([0,3,1,2])\n",
    "        data = data/255\n",
    "        output = net(data.as_in_context(ctx))\n",
    "        acc += accuracy(output, label.as_in_context(ctx))\n",
    "    return acc / len(data_iterator)"
   ]
  },
  {
   "cell_type": "code",
   "execution_count": 10,
   "metadata": {
    "scrolled": false
   },
   "outputs": [],
   "source": [
    "softmax_cross_entropy = gluon.loss.SoftmaxCrossEntropyLoss()\n",
    "trainer = gluon.Trainer(\n",
    "    net.collect_params(), 'sgd', {'learning_rate': 0.01})"
   ]
  },
  {
   "cell_type": "code",
   "execution_count": 11,
   "metadata": {
    "scrolled": true
   },
   "outputs": [
    {
     "name": "stdout",
     "output_type": "stream",
     "text": [
      "Epoch 0. Loss: 1.249197, Train acc 0.558764, Test acc 0.696756\n"
     ]
    }
   ],
   "source": [
    "for epoch in range(1):\n",
    "    train_loss = 0.\n",
    "    train_acc = 0.\n",
    "    test_acc = 0.\n",
    "    for data, label in train_data:\n",
    "        label = label.as_in_context(mx.gpu())\n",
    "        data = data.transpose([0,3,1,2])\n",
    "        data = data/255\n",
    "        with autograd.record():\n",
    "            output = net(data.as_in_context(mx.gpu()))\n",
    "            loss = softmax_cross_entropy(output, label)\n",
    "        loss.backward()\n",
    "        trainer.step(batch_size)\n",
    "\n",
    "        train_loss += nd.mean(loss).asscalar()\n",
    "        train_acc += accuracy(output, label)\n",
    "    test_acc = evaluate_accuracy(test_data, net)\n",
    "    print(\"Epoch %d. Loss: %f, Train acc %f, Test acc %f\" % (\n",
    "        epoch, train_loss/len(train_data), \n",
    "        train_acc/len(train_data),test_acc))"
   ]
  }
 ],
 "metadata": {
  "kernelspec": {
   "display_name": "Python 3",
   "language": "python",
   "name": "python3"
  },
  "language_info": {
   "codemirror_mode": {
    "name": "ipython",
    "version": 3
   },
   "file_extension": ".py",
   "mimetype": "text/x-python",
   "name": "python",
   "nbconvert_exporter": "python",
   "pygments_lexer": "ipython3",
   "version": "3.6.1"
  }
 },
 "nbformat": 4,
 "nbformat_minor": 2
}
