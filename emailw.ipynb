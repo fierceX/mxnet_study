{
 "cells": [
  {
   "cell_type": "code",
   "execution_count": 3,
   "metadata": {
    "ExecuteTime": {
     "end_time": "2017-10-10T14:36:57.399914Z",
     "start_time": "2017-10-10T14:36:57.271061Z"
    },
    "collapsed": true
   },
   "outputs": [],
   "source": [
    "import os\n",
    "import poplib\n",
    "import re\n",
    "import time\n",
    "from email.parser import Parser\n",
    "from email.header import decode_header\n",
    "from email.utils import parseaddr\n",
    "from email import encoders\n",
    "from email.header import Header\n",
    "from email.mime.text import MIMEText\n",
    "from email.utils import parseaddr, formataddr\n",
    "from envelopes import Envelope\n",
    "import email"
   ]
  },
  {
   "cell_type": "code",
   "execution_count": 5,
   "metadata": {
    "ExecuteTime": {
     "end_time": "2017-10-10T15:24:53.499816Z",
     "start_time": "2017-10-10T15:24:53.291745Z"
    },
    "collapsed": true
   },
   "outputs": [],
   "source": [
    "def guess_charset(msg):\n",
    "    charset = msg.get_charset()\n",
    "    if charset is None:\n",
    "        content_type = msg.get('Content-Type', '').lower()\n",
    "        pos = content_type.find('charset=')\n",
    "        if pos >= 0:\n",
    "            charset = content_type[pos + 8:].strip()\n",
    "    return charset\n",
    "\n",
    "def decode_str(s):\n",
    "    value, charset = decode_header(s)[0]\n",
    "    if charset:\n",
    "        value = value.decode(charset)\n",
    "    return value\n",
    "\n",
    "\n",
    "def Get_info(msg):\n",
    "    if (msg.is_multipart()):\n",
    "        parts = msg.get_payload()\n",
    "        for n, part in enumerate(parts):\n",
    "            return Get_info(part)\n",
    "    if not msg.is_multipart():\n",
    "        content_type = msg.get_content_type()\n",
    "        if content_type=='text/plain':\n",
    "            content = msg.get_payload(decode=True)\n",
    "            charset = guess_charset(msg)\n",
    "            if charset:\n",
    "                content = content.decode(charset)\n",
    "            return content\n",
    "\n",
    "def SentEmail(message,subject):\n",
    "    envelope = Envelope(\n",
    "    from_addr=(u'trainmonitor@126.com', u'Train'),\n",
    "    to_addr=(u'fiercewind@outlook.com', u'FierceX'),\n",
    "    subject=subject,\n",
    "    text_body=message\n",
    "    )\n",
    "    \n",
    "    envelope.add_attachment('1.png')\n",
    "    \n",
    "    envelope.send('smtp.126.com', login='trainmonitor@126.com',\n",
    "              password='mxnet123', tls=True)\n",
    "    \n",
    "def ReEmail():\n",
    "    host = \"pop.126.com\"\n",
    "    user = \"trainmonitor@126.com\"\n",
    "    password = \"mxnet123\"\n",
    "    pp = poplib.POP3(host)\n",
    "    pp.user(user)\n",
    "    pp.pass_(password)\n",
    "    resp, mails, octets = pp.list()\n",
    "    index = len(mails)\n",
    "    print(index)\n",
    "    if index > 0:\n",
    "        resp, lines, octets = pp.retr(index)\n",
    "        msg_content = b'\\r\\n'.join(lines).decode('utf-8')\n",
    "        pp.dele(index)\n",
    "        pp.quit()\n",
    "        msg = Parser().parsestr(msg_content)\n",
    "        message = Get_info(msg)\n",
    "        subject = msg.get('Subject')\n",
    "        date = msg.get('Date')\n",
    "        return message,subject,date\n",
    "    return None,None,None"
   ]
  },
  {
   "cell_type": "code",
   "execution_count": 7,
   "metadata": {
    "ExecuteTime": {
     "end_time": "2017-10-10T14:45:25.893626Z",
     "start_time": "2017-10-10T14:41:45.441801Z"
    }
   },
   "outputs": [],
   "source": [
    "SentEmail('111\\n222',u'训练结果')"
   ]
  },
  {
   "cell_type": "code",
   "execution_count": 36,
   "metadata": {
    "ExecuteTime": {
     "end_time": "2017-10-10T15:20:55.971764Z",
     "start_time": "2017-10-10T15:20:53.789023Z"
    }
   },
   "outputs": [
    {
     "data": {
      "text/plain": [
       "str"
      ]
     },
     "execution_count": 36,
     "metadata": {},
     "output_type": "execute_result"
    }
   ],
   "source": [
    "msg,sub,date = ReEmail()\n",
    "type(date)"
   ]
  },
  {
   "cell_type": "code",
   "execution_count": null,
   "metadata": {
    "ExecuteTime": {
     "start_time": "2017-10-10T15:30:35.830Z"
    }
   },
   "outputs": [
    {
     "name": "stdout",
     "output_type": "stream",
     "text": [
      "0\n",
      "TimeoutError\n",
      "0\n",
      "TimeoutError\n",
      "TimeoutError\n",
      "1\n",
      "train\n",
      "lr 0.05\n",
      "wd 0.4\n",
      "ep 8\n",
      "bs 14\n",
      "\n",
      "\n",
      "0\n",
      "0\n",
      "0\n",
      "1\n",
      "print\n",
      "啦啦啦啦啦\n",
      "\n",
      "\n"
     ]
    }
   ],
   "source": [
    "while(True):\n",
    "    time.sleep(10)\n",
    "    try:\n",
    "        msg,sub,date = ReEmail()\n",
    "    except TimeoutError as e:\n",
    "        print('TimeoutError')\n",
    "    if sub == 'train':\n",
    "        print('train')\n",
    "        print(msg)\n",
    "    if sub == 'print':\n",
    "        print('print')\n",
    "        print(msg)"
   ]
  }
 ],
 "metadata": {
  "kernelspec": {
   "display_name": "Python 3",
   "language": "python",
   "name": "python3"
  },
  "language_info": {
   "codemirror_mode": {
    "name": "ipython",
    "version": 3
   },
   "file_extension": ".py",
   "mimetype": "text/x-python",
   "name": "python",
   "nbconvert_exporter": "python",
   "pygments_lexer": "ipython3",
   "version": "3.6.1"
  }
 },
 "nbformat": 4,
 "nbformat_minor": 2
}
