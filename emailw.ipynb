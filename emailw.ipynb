{
 "cells": [
  {
   "cell_type": "code",
   "execution_count": 1,
   "metadata": {
    "ExecuteTime": {
     "end_time": "2017-10-10T14:36:57.399914Z",
     "start_time": "2017-10-10T14:36:57.271061Z"
    },
    "collapsed": true
   },
   "outputs": [],
   "source": [
    "import os\n",
    "import poplib\n",
    "import smtplib\n",
    "import re\n",
    "import time\n",
    "from email.parser import Parser\n",
    "from email.header import decode_header\n",
    "from email.utils import parseaddr\n",
    "from email import encoders\n",
    "from email.header import Header\n",
    "from email.mime.text import MIMEText\n",
    "from email.utils import parseaddr, formataddr\n",
    "import email"
   ]
  },
  {
   "cell_type": "code",
   "execution_count": 40,
   "metadata": {
    "ExecuteTime": {
     "end_time": "2017-10-10T15:24:53.499816Z",
     "start_time": "2017-10-10T15:24:53.291745Z"
    }
   },
   "outputs": [],
   "source": [
    "def _format_addr(s):\n",
    "    name, addr = parseaddr(s)\n",
    "    return formataddr((Header(name, 'utf-8').encode(), addr))\n",
    "\n",
    "def guess_charset(msg):\n",
    "    charset = msg.get_charset()\n",
    "    if charset is None:\n",
    "        content_type = msg.get('Content-Type', '').lower()\n",
    "        pos = content_type.find('charset=')\n",
    "        if pos >= 0:\n",
    "            charset = content_type[pos + 8:].strip()\n",
    "    return charset\n",
    "\n",
    "def decode_str(s):\n",
    "    value, charset = decode_header(s)[0]\n",
    "    if charset:\n",
    "        value = value.decode(charset)\n",
    "    return value\n",
    "\n",
    "\n",
    "def Get_info(msg):\n",
    "    if (msg.is_multipart()):\n",
    "        parts = msg.get_payload()\n",
    "        for n, part in enumerate(parts):\n",
    "            return Get_info(part)\n",
    "    if not msg.is_multipart():\n",
    "        content_type = msg.get_content_type()\n",
    "        if content_type=='text/plain':\n",
    "            content = msg.get_payload(decode=True)\n",
    "            charset = guess_charset(msg)\n",
    "            if charset:\n",
    "                content = content.decode(charset)\n",
    "            return content\n",
    "\n",
    "def SentEmail(message):\n",
    "    from_addr = 'trainmonitor@126.com'\n",
    "    to_addr = 'fiercewind@outlook.com'\n",
    "    msg = MIMEText(message, 'plain', 'utf-8')\n",
    "    msg['From'] =  _format_addr('%s<%s>' % (from_addr,from_addr))\n",
    "    msg['To'] = to_addr # _format_addr('fiercewind<%s>' % to_addr)\n",
    "    msg['Subject'] = Header('hello', 'utf-8').encode()\n",
    "    server = smtplib.SMTP('smtp.126.com') # SMTP协议默认端口是25\n",
    "    server.login(from_addr, 'mxnet123')\n",
    "    server.sendmail(from_addr, to_addr, msg.as_string())\n",
    "    server.quit()\n",
    "    \n",
    "def ReEmail():\n",
    "    host = \"pop.126.com\"\n",
    "    user = \"trainmonitor@126.com\"\n",
    "    password = \"mxnet123\"\n",
    "    pp = poplib.POP3(host)\n",
    "    pp.user(user)\n",
    "    pp.pass_(password)\n",
    "    resp, mails, octets = pp.list()\n",
    "    index = len(mails)\n",
    "    print(index)\n",
    "    if index > 0:\n",
    "        resp, lines, octets = pp.retr(index)\n",
    "        msg_content = b'\\r\\n'.join(lines).decode('utf-8')\n",
    "        pp.dele(index)\n",
    "        pp.quit()\n",
    "        msg = Parser().parsestr(msg_content)\n",
    "        message = Get_info(msg)\n",
    "        subject = msg.get('Subject')\n",
    "        date = msg.get('Date')\n",
    "        return message,subject,date\n",
    "    return None,None,None"
   ]
  },
  {
   "cell_type": "code",
   "execution_count": 7,
   "metadata": {
    "ExecuteTime": {
     "end_time": "2017-10-10T14:45:25.893626Z",
     "start_time": "2017-10-10T14:41:45.441801Z"
    }
   },
   "outputs": [
    {
     "ename": "SMTPDataError",
     "evalue": "(554, b'DT:SPM 126 smtp1,C8mowACH1Cl13NxZ9Xm6AQ--.14619S2 1507646585,please see http://mail.163.com/help/help_spam_16.htm?ip=111.63.2.235&hostid=smtp1&time=1507646585')",
     "output_type": "error",
     "traceback": [
      "\u001b[1;31m---------------------------------------------------------------------------\u001b[0m",
      "\u001b[1;31mSMTPDataError\u001b[0m                             Traceback (most recent call last)",
      "\u001b[1;32m<ipython-input-7-314e6aa58c64>\u001b[0m in \u001b[0;36m<module>\u001b[1;34m()\u001b[0m\n\u001b[1;32m----> 1\u001b[1;33m \u001b[0mSentEmail\u001b[0m\u001b[1;33m(\u001b[0m\u001b[1;34m'123456789'\u001b[0m\u001b[1;33m)\u001b[0m\u001b[1;33m\u001b[0m\u001b[0m\n\u001b[0m",
      "\u001b[1;32m<ipython-input-6-0058b890d80a>\u001b[0m in \u001b[0;36mSentEmail\u001b[1;34m(message)\u001b[0m\n\u001b[0;32m     12\u001b[0m     \u001b[0mserver\u001b[0m \u001b[1;33m=\u001b[0m \u001b[0msmtplib\u001b[0m\u001b[1;33m.\u001b[0m\u001b[0mSMTP\u001b[0m\u001b[1;33m(\u001b[0m\u001b[1;34m'smtp.126.com'\u001b[0m\u001b[1;33m)\u001b[0m \u001b[1;31m# SMTP协议默认端口是25\u001b[0m\u001b[1;33m\u001b[0m\u001b[0m\n\u001b[0;32m     13\u001b[0m     \u001b[0mserver\u001b[0m\u001b[1;33m.\u001b[0m\u001b[0mlogin\u001b[0m\u001b[1;33m(\u001b[0m\u001b[0mfrom_addr\u001b[0m\u001b[1;33m,\u001b[0m \u001b[1;34m'mxnet123'\u001b[0m\u001b[1;33m)\u001b[0m\u001b[1;33m\u001b[0m\u001b[0m\n\u001b[1;32m---> 14\u001b[1;33m     \u001b[0mserver\u001b[0m\u001b[1;33m.\u001b[0m\u001b[0msendmail\u001b[0m\u001b[1;33m(\u001b[0m\u001b[0mfrom_addr\u001b[0m\u001b[1;33m,\u001b[0m \u001b[0mto_addr\u001b[0m\u001b[1;33m,\u001b[0m \u001b[0mmsg\u001b[0m\u001b[1;33m.\u001b[0m\u001b[0mas_string\u001b[0m\u001b[1;33m(\u001b[0m\u001b[1;33m)\u001b[0m\u001b[1;33m)\u001b[0m\u001b[1;33m\u001b[0m\u001b[0m\n\u001b[0m\u001b[0;32m     15\u001b[0m     \u001b[0mserver\u001b[0m\u001b[1;33m.\u001b[0m\u001b[0mquit\u001b[0m\u001b[1;33m(\u001b[0m\u001b[1;33m)\u001b[0m\u001b[1;33m\u001b[0m\u001b[0m\n",
      "\u001b[1;32mC:\\ProgramData\\Miniconda3\\lib\\smtplib.py\u001b[0m in \u001b[0;36msendmail\u001b[1;34m(self, from_addr, to_addrs, msg, mail_options, rcpt_options)\u001b[0m\n\u001b[0;32m    885\u001b[0m             \u001b[1;32melse\u001b[0m\u001b[1;33m:\u001b[0m\u001b[1;33m\u001b[0m\u001b[0m\n\u001b[0;32m    886\u001b[0m                 \u001b[0mself\u001b[0m\u001b[1;33m.\u001b[0m\u001b[0m_rset\u001b[0m\u001b[1;33m(\u001b[0m\u001b[1;33m)\u001b[0m\u001b[1;33m\u001b[0m\u001b[0m\n\u001b[1;32m--> 887\u001b[1;33m             \u001b[1;32mraise\u001b[0m \u001b[0mSMTPDataError\u001b[0m\u001b[1;33m(\u001b[0m\u001b[0mcode\u001b[0m\u001b[1;33m,\u001b[0m \u001b[0mresp\u001b[0m\u001b[1;33m)\u001b[0m\u001b[1;33m\u001b[0m\u001b[0m\n\u001b[0m\u001b[0;32m    888\u001b[0m         \u001b[1;31m#if we got here then somebody got our mail\u001b[0m\u001b[1;33m\u001b[0m\u001b[1;33m\u001b[0m\u001b[0m\n\u001b[0;32m    889\u001b[0m         \u001b[1;32mreturn\u001b[0m \u001b[0msenderrs\u001b[0m\u001b[1;33m\u001b[0m\u001b[0m\n",
      "\u001b[1;31mSMTPDataError\u001b[0m: (554, b'DT:SPM 126 smtp1,C8mowACH1Cl13NxZ9Xm6AQ--.14619S2 1507646585,please see http://mail.163.com/help/help_spam_16.htm?ip=111.63.2.235&hostid=smtp1&time=1507646585')"
     ]
    }
   ],
   "source": [
    "SentEmail('123456789')"
   ]
  },
  {
   "cell_type": "code",
   "execution_count": 36,
   "metadata": {
    "ExecuteTime": {
     "end_time": "2017-10-10T15:20:55.971764Z",
     "start_time": "2017-10-10T15:20:53.789023Z"
    }
   },
   "outputs": [
    {
     "data": {
      "text/plain": [
       "str"
      ]
     },
     "execution_count": 36,
     "metadata": {},
     "output_type": "execute_result"
    }
   ],
   "source": [
    "msg,sub,date = ReEmail()\n",
    "type(date)"
   ]
  },
  {
   "cell_type": "code",
   "execution_count": null,
   "metadata": {
    "ExecuteTime": {
     "start_time": "2017-10-10T15:30:35.830Z"
    }
   },
   "outputs": [
    {
     "name": "stdout",
     "output_type": "stream",
     "text": [
      "0\n",
      "TimeoutError\n",
      "0\n",
      "TimeoutError\n",
      "TimeoutError\n",
      "1\n",
      "train\n",
      "lr 0.05\n",
      "wd 0.4\n",
      "ep 8\n",
      "bs 14\n",
      "\n",
      "\n",
      "0\n",
      "0\n",
      "0\n",
      "1\n",
      "print\n",
      "啦啦啦啦啦\n",
      "\n",
      "\n"
     ]
    }
   ],
   "source": [
    "while(True):\n",
    "    time.sleep(10)\n",
    "    try:\n",
    "        msg,sub,date = ReEmail()\n",
    "    except TimeoutError as e:\n",
    "        print('TimeoutError')\n",
    "    if sub == 'train':\n",
    "        print('train')\n",
    "        print(msg)\n",
    "    if sub == 'print':\n",
    "        print('print')\n",
    "        print(msg)"
   ]
  }
 ],
 "metadata": {
  "kernelspec": {
   "display_name": "Python 3",
   "language": "python",
   "name": "python3"
  },
  "language_info": {
   "codemirror_mode": {
    "name": "ipython",
    "version": 3
   },
   "file_extension": ".py",
   "mimetype": "text/x-python",
   "name": "python",
   "nbconvert_exporter": "python",
   "pygments_lexer": "ipython3",
   "version": "3.6.1"
  }
 },
 "nbformat": 4,
 "nbformat_minor": 2
}
